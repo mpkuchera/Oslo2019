{
 "cells": [
  {
   "cell_type": "markdown",
   "metadata": {},
   "source": [
    "<img src=\"data:image/jpeg;base64,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\" width=200 style=\"border-radius:40px; float: left; margin:40px;\" >\n",
    "\n",
    "# Plotting the Hertzsprung-Russel diagram\n",
    "                                                                                                                                      \n",
    "### The Hertzsprung-Russel diagram is a scatter plot of star brightness vs. surface temperature. This diagram is famous for distinguishing the different types of stars, such as *main sequence* stars, *red giants*, and *white dwarfs*. \n",
    "\n",
    " - The learning objective of this activity (for the students) is to gain experience with reading data from a file and using the plotting packages in python for the first time.\n",
    "\n",
    " - The goal of this activity (for the faculty participants) is to gain hands-on experience with pair programming.\n",
    "\n",
    " - The goal of this activity (for me) is to hear fun facts about the HR diagram or the types of stars so I can improve this in-class activity without making it more difficult.\n",
    " \n",
    "*Context: This was created as a short in-class activity very early in our sophomore-level computational physics course. Faculty have modified this exercise (which is posted on the PICUP website) to be physics-focused for their intro to astronomy courses.*"
   ]
  },
  {
   "cell_type": "code",
   "execution_count": 1,
   "metadata": {},
   "outputs": [],
   "source": [
    "# the below line indicates that plots will plot inside of the notebook instead of a separate window.\n",
    "# if you are in a Jupyter notebook\n",
    "# %matplotlib inline  \n",
    "# place all of your import statements in this cell, below this line. Make sure to re-run this cell to load new packages\"\n"
   ]
  },
  {
   "cell_type": "markdown",
   "metadata": {},
   "source": [
    "In the below cell, use the `loadtxt` function to load the data file `stars.txt` into an array. The data file should be saved to the same folder as this notebook. Refer to the official documentation to reference how to use this function if you are unfamiliar: https://docs.scipy.org/doc/numpy/reference/generated/numpy.loadtxt.html."
   ]
  },
  {
   "cell_type": "code",
   "execution_count": null,
   "metadata": {},
   "outputs": [],
   "source": []
  },
  {
   "cell_type": "markdown",
   "metadata": {},
   "source": [
    "The first column is *temperature* and the second is *magnitude*. Magnitude is a logarithmic measure of brightness as seen on earth (this is called *apparent magnitude*). Counterintuitively (to Dr. Kuchera), the more bright a star, the lower its magnitude value. For reference, the sun has a magnitude of -27, and Sirius, the brightest star outside of our solar system, has a magnitude of -1.44.\n",
    "\n",
    "### Below, create a scatter plot of magnitude vs. temperature. Label your axes.\n",
    "*Note: you can use **array slicing** to access the individual columns of a 2D array*"
   ]
  },
  {
   "cell_type": "code",
   "execution_count": 36,
   "metadata": {
    "collapsed": true
   },
   "outputs": [],
   "source": []
  },
  {
   "cell_type": "markdown",
   "metadata": {},
   "source": [
    "### Traditionally, the axes of this plot are plotted by decreasing value. When plotted like this, it is called the *Hertzprung-Russel diagram* or *HR diagram*. \n",
    "\n",
    "\n",
    "### Below, make this HR diagram. Label axes."
   ]
  },
  {
   "cell_type": "code",
   "execution_count": null,
   "metadata": {},
   "outputs": [],
   "source": []
  },
  {
   "cell_type": "markdown",
   "metadata": {},
   "source": [
    "*insert some enlightening interpretation exercise or physics facts here (depending on course)*\n",
    "\n",
    "**Faculty: If you completed this exercise without getting the chance to switch partners enough, please use the cell below to attempt to color code meaningful regions of this plot, or do whatever else you find interesting.**"
   ]
  },
  {
   "cell_type": "code",
   "execution_count": null,
   "metadata": {},
   "outputs": [],
   "source": []
  }
 ],
 "metadata": {
  "kernelspec": {
   "display_name": "Python 3",
   "language": "python",
   "name": "python3"
  },
  "language_info": {
   "codemirror_mode": {
    "name": "ipython",
    "version": 3
   },
   "file_extension": ".py",
   "mimetype": "text/x-python",
   "name": "python",
   "nbconvert_exporter": "python",
   "pygments_lexer": "ipython3",
   "version": "3.7.1"
  }
 },
 "nbformat": 4,
 "nbformat_minor": 2
}
